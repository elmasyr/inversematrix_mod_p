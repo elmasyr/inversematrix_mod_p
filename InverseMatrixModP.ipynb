{
 "cells": [
  {
   "cell_type": "code",
   "execution_count": null,
   "metadata": {
    "collapsed": true
   },
   "outputs": [],
   "source": [
    "# this was used in doc printing\n",
    "#\\tableofcontents \\newpage"
   ]
  },
  {
   "cell_type": "markdown",
   "metadata": {},
   "source": [
    "# Käänteismatriisi modulo p¶\n",
    "\n",
    "This is related to a school project and therefore the documentation is in Finnish."
   ]
  },
  {
   "cell_type": "markdown",
   "metadata": {},
   "source": [
    "## Tehtävän kuvaus:\n",
    "Matriisin kääntäminen modulo p, käyttäen lajennettua Eukleideen algoritmia,"
   ]
  },
  {
   "cell_type": "markdown",
   "metadata": {},
   "source": [
    "## Suunnitelma tehtävän ratkaisemiseksi\n",
    "\n",
    "Olkoon käännettävä matriisi A ja p jokin kokonaisluku:"
   ]
  },
  {
   "cell_type": "markdown",
   "metadata": {},
   "source": [
    "1. Lasketaan detA ja jotta kyseisellä menetelmällä voidaan kääntää matriisi A modulo p, niin varmistetaan, että; \n",
    "    * matriisin determinantti on erisuuri kuin 0 ja \n",
    "    * matriisin determinantin ja kokonaisluvun p suurin yhteinen tekijä on 1\n",
    "2. Muodostetaan matriisin A kotekijöiden avulla adjungoitu matriisi adjA\n",
    "3. Transponoidaan apumatriisi adjA\n",
    "4. Etsitään determinantille käänteisluku mod p, käyttäen avuksi laajennettua Eukleideen algoritmia\n",
    "5. Kerrotaan käännetty adjA-matriisi arvolla, joka saadaan yhtälöstä 1/detA mod p\n",
    "6. Sievennetään käänteismatriisin arvot modulo p\n",
    "\n",
    "Muuta: Oletuksena on, että käännetävä matriisi on neliömatriisi ja matriisin A alkiot ovat kokonaislukuja.<br>\n",
    "Huomioitavaa: käytetyn menetelmän sisältävän rekursion vuoksi algoritminen kompleksisuus eksponentiaalinen, joten ratkaisu ei sovellu suurempien matriisien kääntämiseen."
   ]
  },
  {
   "cell_type": "markdown",
   "metadata": {},
   "source": [
    "## Funktioiden rakentaminen"
   ]
  },
  {
   "cell_type": "markdown",
   "metadata": {},
   "source": [
    "### Alimatriisi"
   ]
  },
  {
   "cell_type": "markdown",
   "metadata": {},
   "source": [
    "Tehdään ensin apufunktio, joka etsii matriisin tietyn kohdan pienemmän matriisin (n−1)×(n−1). Tätä funktiota tarvitaan myöhemmin muissa funktioissa.<br>\n",
    "\n",
    "Algoritmi: "
   ]
  },
  {
   "cell_type": "markdown",
   "metadata": {},
   "source": [
    "1. alimatriisi, parametrit: matriisi a, rivi j, sarake j:\n",
    "2. uusi matriisi b on matriisin a kopio (pelkkä b=a viittaisin samaan matriisiin, jolloin funktio aiheuttaisi sivuvaikutuksia)\n",
    "3. poistetaan matriisin b rivi i\n",
    "4. järjestetään matriisi rivien sijaan väliaikaisesti sarakkeittain, jotta seuraavaksi saadaan j-sarake poistettua (zip yhdistettynä *-operaattoriin, kokoan listan jokaisen alkion ensimmäiset yhteen, toiset yhteen jne -> b:n sarakkeet)\n",
    "5. poistetaan matriisin b sarake j\n",
    "6. järjestetään sarakkeiden sijaan riveittäin (zip yhdeistettynä *-operaattoriin listaa jäljellä olevien sarakkeiden ensimmäiset alkiot yhteen jne -> b:n rivit)\n",
    "7. palautetaan alimatriisi b"
   ]
  },
  {
   "cell_type": "code",
   "execution_count": 1,
   "metadata": {
    "collapsed": false
   },
   "outputs": [],
   "source": [
    "def alimatriisi(a,i,j):\n",
    "    b = a[:] # kopio a:sta, jolloin ei vaikuta a:han\n",
    "    del(b[i]) # poistetaan rivi i\n",
    "    b = zip(*b) # järjestetään sarakkeittain\n",
    "    del(b[j]) # poistetaan sarake j\n",
    "    b = zip(*b) # järjestetään riveittäin\n",
    "    return b # palautetaan alimatriisi b"
   ]
  },
  {
   "cell_type": "code",
   "execution_count": 2,
   "metadata": {
    "collapsed": true
   },
   "outputs": [],
   "source": [
    "mtr1=[[23, 3],[10,25]]"
   ]
  },
  {
   "cell_type": "code",
   "execution_count": 3,
   "metadata": {
    "collapsed": true
   },
   "outputs": [],
   "source": [
    "mtr2=[[2, -1, 0], [1, 0, -5], [4, 3, -9]]"
   ]
  },
  {
   "cell_type": "markdown",
   "metadata": {},
   "source": [
    "Havainnollisuuden vuoksi otetaan käyttöön numpy kirjasto, jolla matriisia voi tarkastella matriisimuodossa. Tämä ei muuta muuttujien sisältöä."
   ]
  },
  {
   "cell_type": "code",
   "execution_count": 4,
   "metadata": {
    "collapsed": false
   },
   "outputs": [
    {
     "name": "stdout",
     "output_type": "stream",
     "text": [
      "[[23  3]\n",
      " [10 25]]\n",
      "[[ 2 -1  0]\n",
      " [ 1  0 -5]\n",
      " [ 4  3 -9]]\n"
     ]
    }
   ],
   "source": [
    "import numpy as np\n",
    "print np.matrix(mtr1)\n",
    "print np.matrix(mtr2)"
   ]
  },
  {
   "cell_type": "markdown",
   "metadata": {},
   "source": [
    "Testataan alimatriisi-funktiota"
   ]
  },
  {
   "cell_type": "code",
   "execution_count": 5,
   "metadata": {
    "collapsed": false
   },
   "outputs": [
    {
     "name": "stdout",
     "output_type": "stream",
     "text": [
      "[(25,)]\n",
      "[(0, -5), (3, -9)]\n",
      "[(2, -1), (4, 3)]\n"
     ]
    }
   ],
   "source": [
    "print alimatriisi(mtr1,0,0) # pitäisi olla 25\n",
    "print alimatriisi(mtr2,0,0) # pitäisi olla [[0, -5], [3, -9]]\n",
    "print alimatriisi(mtr2,1,2) # pitäisi olla [[2, -1], [4, 3]]"
   ]
  },
  {
   "cell_type": "markdown",
   "metadata": {},
   "source": [
    "### Determinantti"
   ]
  },
  {
   "cell_type": "markdown",
   "metadata": {},
   "source": [
    "Funktio, joka etsii matriisin determinantin kofaktoreiden avulla.<br><br>\n",
    "\n",
    "$detA=c_{ij}*(-1)^{i+j}$<br><br>\n",
    "\n",
    "Algoritmi:"
   ]
  },
  {
   "cell_type": "markdown",
   "metadata": {},
   "source": [
    "1. determinantti, parametrit: matriisi a:\n",
    "2. kun matriisin pituus on vain yksi: \n",
    "3. palautetaan kyseinen luku rekursiiviselle kutsulle\n",
    "4. muuten\n",
    "5. matriisin pituus tallennetaan muuttujaan n\n",
    "6. determinantiksi asetetaan 0, jotta voidaan myöhemmin lisätä siihen rekursiivisen kutsun arvoja\n",
    "7. käydään matriisia läpi sarakkeiden lukumäärän verran (sarakkeita yhtä paljon kuin rivejä)\n",
    "8. käydään matriisin ensimmäinen rivi läpi sarakkeittain ja kerrotaan kyseinen arvo kofaktorilla\n",
    "9. palautetaan determinantti"
   ]
  },
  {
   "cell_type": "code",
   "execution_count": 6,
   "metadata": {
    "collapsed": true
   },
   "outputs": [],
   "source": [
    "def determinantti(a):\n",
    "    if len(a) == 1: # \n",
    "        return a[0][0]\n",
    "    else:\n",
    "        n=len(a)\n",
    "        det = 0\n",
    "        for i in range(n): # käydään rivi 0 läpi sarakkeittain; a[0][i]\n",
    "            # kutsutaan rekursiivisesti ja lisätään summaan\n",
    "            det += a[0][i] * (-1)**(i) * determinantti(alimatriisi(a,0,i)) \n",
    "        return det #Adds successive elements times their cofactors"
   ]
  },
  {
   "cell_type": "code",
   "execution_count": 7,
   "metadata": {
    "collapsed": false
   },
   "outputs": [
    {
     "name": "stdout",
     "output_type": "stream",
     "text": [
      "545\n",
      "41\n"
     ]
    }
   ],
   "source": [
    "'''testaus 1\n",
    "pitäisi olla 25·23-3·10 = 545'''\n",
    "print determinantti(mtr1) # \n",
    "\n",
    "'''testaus 2\n",
    "pitäisi olla 2·0·(-9) + (-1)·(-5)·4 + 0·1·3 - 0·0·4 - 2·(-5)·3 - (-1)·1·(-9) \n",
    "           = 0 + 20 + 0 - 0 + 30 - 9 = 41'''\n",
    "print determinantti(mtr2) # \n"
   ]
  },
  {
   "cell_type": "code",
   "execution_count": 8,
   "metadata": {
    "collapsed": true
   },
   "outputs": [],
   "source": [
    "def idmatriisi(n):\n",
    "    # diagonaalilla x=y, jolloin arvo on 1, muulloin 0\n",
    "    return [[long(x == y) for x in range(0, n)] for y in range(0, n)] "
   ]
  },
  {
   "cell_type": "code",
   "execution_count": 9,
   "metadata": {
    "collapsed": false
   },
   "outputs": [
    {
     "name": "stdout",
     "output_type": "stream",
     "text": [
      "[[1 0 0]\n",
      " [0 1 0]\n",
      " [0 0 1]]\n"
     ]
    }
   ],
   "source": [
    "print np.matrix(idmatriisi(3))"
   ]
  },
  {
   "cell_type": "markdown",
   "metadata": {},
   "source": [
    "### Adjungoitu matriisi adjA kotekijöiden avulla\n",
    "\n",
    "Algoritmi:"
   ]
  },
  {
   "cell_type": "markdown",
   "metadata": {},
   "source": [
    "1. adjungoitu matriisi, parametrit: matriisi a:\n",
    "2. luodaan uuden matriisin pohjaksi identiteettimatriisi adja, joka on samankokoinen kuin matriisi a\n",
    "3. uuteen matriisiin lasketaan a:n avulla alkiot yksi kerrallaan, aikaisempien funktioiden avulla<br>\n",
    "$(-1)^{rivi+sar}*determinantti(alimatriisi(a,rivi,sar))$<br>\n",
    "4. palautetaan matriisi adja "
   ]
  },
  {
   "cell_type": "code",
   "execution_count": 10,
   "metadata": {
    "collapsed": true
   },
   "outputs": [],
   "source": [
    "def adjA(a):\n",
    "    n = len(a)\n",
    "    adja = idmatriisi(n)\n",
    "    for rivi in xrange(n):\n",
    "        for sar in xrange(n):\n",
    "            adja[rivi][sar] = (-1)**(rivi+sar) * determinantti(alimatriisi(a,rivi,sar))            \n",
    "    return adja"
   ]
  },
  {
   "cell_type": "code",
   "execution_count": 11,
   "metadata": {
    "collapsed": false
   },
   "outputs": [
    {
     "data": {
      "text/plain": [
       "[[25, -10], [-3, 23]]"
      ]
     },
     "execution_count": 11,
     "metadata": {},
     "output_type": "execute_result"
    }
   ],
   "source": [
    "adjA(mtr1)"
   ]
  },
  {
   "cell_type": "code",
   "execution_count": 12,
   "metadata": {
    "collapsed": false
   },
   "outputs": [
    {
     "name": "stdout",
     "output_type": "stream",
     "text": [
      "[[ 15 -11   3]\n",
      " [ -9 -18 -10]\n",
      " [  5  10   1]]\n"
     ]
    }
   ],
   "source": [
    "print np.matrix(adjA(mtr2))"
   ]
  },
  {
   "cell_type": "markdown",
   "metadata": {},
   "source": [
    "### Transponointi\n",
    "\n",
    "Algoritmi:"
   ]
  },
  {
   "cell_type": "markdown",
   "metadata": {},
   "source": [
    "1. transponoitu matriisi, parametrit: matriisi a\n",
    "2. palautetaan matriisi, jossa matriisin a[rivi][sar] rivien arvot on asetettu sarakkeiden arvoiksi, eli transponoitu<br>\n"
   ]
  },
  {
   "cell_type": "code",
   "execution_count": 13,
   "metadata": {
    "collapsed": true
   },
   "outputs": [],
   "source": [
    "def trans(a):\n",
    "    return [[a[sar][rivi] for sar in range(len(a)) ] for rivi in range(len(a))] "
   ]
  },
  {
   "cell_type": "code",
   "execution_count": 14,
   "metadata": {
    "collapsed": false
   },
   "outputs": [
    {
     "name": "stdout",
     "output_type": "stream",
     "text": [
      "[[23  3]\n",
      " [10 25]] \n",
      "\n",
      "[[23 10]\n",
      " [ 3 25]]\n"
     ]
    }
   ],
   "source": [
    "print np.matrix(mtr1), '\\n'\n",
    "print np.matrix(trans(mtr1))"
   ]
  },
  {
   "cell_type": "code",
   "execution_count": 15,
   "metadata": {
    "collapsed": false
   },
   "outputs": [
    {
     "name": "stdout",
     "output_type": "stream",
     "text": [
      "[[ 2 -1  0]\n",
      " [ 1  0 -5]\n",
      " [ 4  3 -9]] \n",
      "\n",
      "[[ 2  1  4]\n",
      " [-1  0  3]\n",
      " [ 0 -5 -9]]\n"
     ]
    }
   ],
   "source": [
    "print np.matrix(mtr2), '\\n'\n",
    "print np.matrix(trans(mtr2))"
   ]
  },
  {
   "cell_type": "markdown",
   "metadata": {},
   "source": [
    "### Modulo p\n",
    "Määritellään funktiot laajennetulle Eukleideen algoritmille ja maanteisluvun laskemiselle mod p."
   ]
  },
  {
   "cell_type": "markdown",
   "metadata": {},
   "source": [
    "#### Eukleideen algoritmi\n",
    "\n",
    "(syt(a,b))"
   ]
  },
  {
   "cell_type": "markdown",
   "metadata": {},
   "source": [
    "#### Laajennettu Eukleideen algoritmi\n",
    "\n",
    "arvot $u$ ja $v$; $syt(a, b) = r_{n-1} = u*a + v*b$"
   ]
  },
  {
   "cell_type": "markdown",
   "metadata": {},
   "source": [
    "##### Esimerkki"
   ]
  },
  {
   "cell_type": "markdown",
   "metadata": {},
   "source": [
    "Etsitään arvoille a = 65 ja b = 40 suurin yhteinen tekijä, sekä kartoimet u ja v."
   ]
  },
  {
   "cell_type": "markdown",
   "metadata": {},
   "source": [
    "<b>Eukleideen algoritmi</b><br>\n",
    "Etsitään suurin yhteinen tekijä Eukleideen (tavallisella) algoritmilla:<br> "
   ]
  },
  {
   "cell_type": "markdown",
   "metadata": {},
   "source": [
    "(1) 65 = 1 · 40 + 25 \n",
    "(2) 40 = 1 · 25 + 15 \n",
    "(3) 25 = 1 · 15 + 10 \n",
    "(4) 15 = 1 · 10 + 5 10 = 2 · 5"
   ]
  },
  {
   "cell_type": "markdown",
   "metadata": {},
   "source": [
    "Toisin sanoen<br> \n",
    "$SYT(65, 40) = 5.$<br><br>\n",
    "<b>Laajennettu Eukleideen algoritmi</b><br>\n",
    "Etsitään kertoimet $u$ ja $v$ laskemalla algoritmia takaperin:\n",
    "$SYT(86,40)= 5$<br>"
   ]
  },
  {
   "cell_type": "markdown",
   "metadata": {},
   "source": [
    "(4) = 15 − 10 <br>\n",
    "(3) = 15 − (25 − 15) = 2 · 15 − 25 <br>\n",
    "(2) = 2 (40−25) − 25 = 2 · 40 − 3 · 25<br>\n",
    "(1) = 2 · 40−3 (65 − 40)=5 · 40 − 3 · 65<br><br>"
   ]
  },
  {
   "cell_type": "markdown",
   "metadata": {},
   "source": [
    "Saadaan:<br>\n",
    "65(−3) + 40(5) = 5<br>"
   ]
  },
  {
   "cell_type": "code",
   "execution_count": 16,
   "metadata": {
    "collapsed": false
   },
   "outputs": [],
   "source": [
    "# Suurin yhteinen tekijä, käytetään tarkistuksissa\n",
    "def syt(a, b):\n",
    "    if b == 0:\n",
    "        return a\n",
    "    else:\n",
    "        return syt(b, a % b)"
   ]
  },
  {
   "cell_type": "code",
   "execution_count": 17,
   "metadata": {
    "collapsed": true
   },
   "outputs": [],
   "source": [
    "def lea(a, b): #laajennettu Eukleideen algoritmi\n",
    "    if b == 0:\n",
    "        return (1, 0)\n",
    "    else:\n",
    "        (x, y) = lea(b, a % b)\n",
    "        return (y, x - (a / b) * y)"
   ]
  },
  {
   "cell_type": "code",
   "execution_count": 18,
   "metadata": {
    "collapsed": false
   },
   "outputs": [
    {
     "name": "stdout",
     "output_type": "stream",
     "text": [
      "lukujen  65  ja  40 \n",
      "syt:  5 \n",
      "v ja u:  (-3, 5) \n",
      "tarkistus True\n"
     ]
    }
   ],
   "source": [
    "a = 65\n",
    "b = 40\n",
    "print 'lukujen ',a,' ja ',b,'\\nsyt: ',syt(a,b),'\\nv ja u: ' ,lea(a,b), \\\n",
    "        '\\ntarkistus', lea(a,b)[0]*a+ lea(a,b)[1]*b==syt(a,b)"
   ]
  },
  {
   "cell_type": "code",
   "execution_count": 19,
   "metadata": {
    "collapsed": false
   },
   "outputs": [
    {
     "name": "stdout",
     "output_type": "stream",
     "text": [
      "lukujen  1239  ja  735 \n",
      "syt:  21 \n",
      "v ja u:  (-16, 27) \n",
      "tarkistus True\n"
     ]
    }
   ],
   "source": [
    "a=1239\n",
    "b=735\n",
    "print 'lukujen ',a,' ja ',b,'\\nsyt: ',syt(a,b),'\\nv ja u: ' ,lea(a,b), \\\n",
    "        '\\ntarkistus', lea(a,b)[0]*a+ lea(a,b)[1]*b==syt(a,b)"
   ]
  },
  {
   "cell_type": "code",
   "execution_count": 20,
   "metadata": {
    "collapsed": false
   },
   "outputs": [
    {
     "name": "stdout",
     "output_type": "stream",
     "text": [
      "lukujen  34527  ja  18273645 \n",
      "syt:  3 \n",
      "v ja u:  (-892856, 1687) \n",
      "tarkistus True\n"
     ]
    }
   ],
   "source": [
    "b = 18273645\n",
    "a = 34527 \n",
    "print 'lukujen ',a,' ja ',b,'\\nsyt: ',syt(a,b),'\\nv ja u: ' ,lea(a,b), \\\n",
    "        '\\ntarkistus', lea(a,b)[0]*a+ lea(a,b)[1]*b==syt(a,b)"
   ]
  },
  {
   "cell_type": "markdown",
   "metadata": {},
   "source": [
    "#### Käänteisluku modulo p"
   ]
  },
  {
   "cell_type": "markdown",
   "metadata": {
    "collapsed": true
   },
   "source": [
    "Lasketaan käänteisluku (mod p) käyttäen avuksi aiemmin määriteltyä funktiota lea(), joka laskee "
   ]
  },
  {
   "cell_type": "code",
   "execution_count": 21,
   "metadata": {
    "collapsed": true
   },
   "outputs": [],
   "source": [
    "def invmodp(a, p):\n",
    "    a = a % p\n",
    "    if (a == 0):\n",
    "        return 0\n",
    "    (x,y) = lea(p, a % p)\n",
    "    return y % p"
   ]
  },
  {
   "cell_type": "code",
   "execution_count": 22,
   "metadata": {
    "collapsed": false
   },
   "outputs": [
    {
     "name": "stdout",
     "output_type": "stream",
     "text": [
      "10\n",
      "True\n"
     ]
    }
   ],
   "source": [
    "print invmodp(121,13)\n",
    "print 121*invmodp(121,13)%13==1 # tarkistus"
   ]
  },
  {
   "cell_type": "code",
   "execution_count": 23,
   "metadata": {
    "collapsed": false
   },
   "outputs": [
    {
     "name": "stdout",
     "output_type": "stream",
     "text": [
      "0\n",
      "False\n"
     ]
    }
   ],
   "source": [
    "print invmodp((34527),17)\n",
    "print 34527*invmodp(34527,17)%17==1 # tarkistus"
   ]
  },
  {
   "cell_type": "code",
   "execution_count": 24,
   "metadata": {
    "collapsed": false
   },
   "outputs": [
    {
     "name": "stdout",
     "output_type": "stream",
     "text": [
      "4713\n",
      "True\n"
     ]
    }
   ],
   "source": [
    "print invmodp((34527),5875)\n",
    "print 34527*invmodp(34527,5875)%5875==1 # tarkistus"
   ]
  },
  {
   "cell_type": "markdown",
   "metadata": {},
   "source": [
    "### Käänteismatriisi modulo p\n",
    "\n",
    "Jos annetun matriisin A determinantti on nolla tai determinantin ja annetun kokonaisluvun p suurin yhteinen tekijä ei ole 1, niin funktio antaa ilmoituksen ongelmasta ja palauttaa käänteismatriisina vain luvun 0."
   ]
  },
  {
   "cell_type": "code",
   "execution_count": 25,
   "metadata": {
    "collapsed": false
   },
   "outputs": [],
   "source": [
    "def invmatmod(a, p):\n",
    "    deta=determinantti(a)\n",
    "    n=len(a)\n",
    "    if deta==0: # determinanttitarkistus 1\n",
    "        print \"Determinantti on 0. Käänteismatriisia ei voi laskea.\"\n",
    "        return 0\n",
    "    elif syt(deta,p)!=1: # determinanttitarkistus 2\n",
    "        print \"Matriisin A determinantilla ja arvolla p on yhteisiä tekijöitä.\"\n",
    "        print \"Käänteismatriisia ei voi laskea.\"\n",
    "        return 0\n",
    "    else:\n",
    "        komat=adjA(a)\n",
    "        kaant_komat=trans(komat)\n",
    "        detmod=invmodp(deta,p)\n",
    "        ainvmod=[[(detmod*kaant_komat[rivi][sar])%p for sar in range(n) ]\\\n",
    "                 for rivi in range(n)]\n",
    "        return ainvmod"
   ]
  },
  {
   "cell_type": "code",
   "execution_count": 26,
   "metadata": {
    "collapsed": false
   },
   "outputs": [
    {
     "data": {
      "text/plain": [
       "matrix([[ 1,  3],\n",
       "        [10,  3]])"
      ]
     },
     "execution_count": 26,
     "metadata": {},
     "output_type": "execute_result"
    }
   ],
   "source": [
    "np.matrix(invmatmod(mtr1,26))"
   ]
  },
  {
   "cell_type": "code",
   "execution_count": 27,
   "metadata": {
    "collapsed": false
   },
   "outputs": [
    {
     "data": {
      "text/plain": [
       "matrix([[1, 0],\n",
       "        [0, 1]])"
      ]
     },
     "execution_count": 27,
     "metadata": {},
     "output_type": "execute_result"
    }
   ],
   "source": [
    "# tarkistus\n",
    "# käytetään tässä numpy-moduulin matriisilaskua hyödyksi\n",
    "np.matrix(mtr1)*np.matrix(invmatmod(mtr1,26))%26"
   ]
  },
  {
   "cell_type": "code",
   "execution_count": 28,
   "metadata": {
    "collapsed": false
   },
   "outputs": [
    {
     "data": {
      "text/plain": [
       "matrix([[ 1, 15,  9],\n",
       "        [ 1,  4, 18],\n",
       "        [21,  8,  7]])"
      ]
     },
     "execution_count": 28,
     "metadata": {},
     "output_type": "execute_result"
    }
   ],
   "source": [
    "np.matrix(invmatmod(mtr2,26))"
   ]
  },
  {
   "cell_type": "code",
   "execution_count": 29,
   "metadata": {
    "collapsed": false
   },
   "outputs": [
    {
     "data": {
      "text/plain": [
       "matrix([[1, 0, 0],\n",
       "        [0, 1, 0],\n",
       "        [0, 0, 1]])"
      ]
     },
     "execution_count": 29,
     "metadata": {},
     "output_type": "execute_result"
    }
   ],
   "source": [
    "# tarkistus\n",
    "\n",
    "np.matrix(mtr2)*np.matrix(invmatmod(mtr2,26))%26"
   ]
  },
  {
   "cell_type": "markdown",
   "metadata": {},
   "source": [
    "Testataan vielä determinanttitarkistusten toiminta"
   ]
  },
  {
   "cell_type": "code",
   "execution_count": 30,
   "metadata": {
    "collapsed": false
   },
   "outputs": [
    {
     "name": "stdout",
     "output_type": "stream",
     "text": [
      "Determinantti:  0\n",
      "Determinantti on 0. Käänteismatriisia ei voi laskea.\n"
     ]
    },
    {
     "data": {
      "text/plain": [
       "matrix([[0]])"
      ]
     },
     "execution_count": 30,
     "metadata": {},
     "output_type": "execute_result"
    }
   ],
   "source": [
    "print \"Determinantti: \", determinantti([[2, -10], [-3, 15]])\n",
    "np.matrix(invmatmod([[2, -10], [-3, 15]],26))"
   ]
  },
  {
   "cell_type": "code",
   "execution_count": 31,
   "metadata": {
    "collapsed": false
   },
   "outputs": [
    {
     "name": "stdout",
     "output_type": "stream",
     "text": [
      "Determinantti:  2\n",
      "Matriisin A determinantilla ja arvolla p on yhteisiä tekijöitä.\n",
      "Käänteismatriisia ei voi laskea.\n"
     ]
    },
    {
     "data": {
      "text/plain": [
       "matrix([[0]])"
      ]
     },
     "execution_count": 31,
     "metadata": {},
     "output_type": "execute_result"
    }
   ],
   "source": [
    "print \"Determinantti: \", determinantti([[2, -10], [-3, 16]])\n",
    "np.matrix(invmatmod([[2, -10], [-3, 16]],26))"
   ]
  },
  {
   "cell_type": "markdown",
   "metadata": {},
   "source": [
    "## Funktiot koottuna yhteen ja lopullinen testaus"
   ]
  },
  {
   "cell_type": "code",
   "execution_count": 32,
   "metadata": {
    "collapsed": false
   },
   "outputs": [],
   "source": [
    "def alimatriisi(a,i,j):\n",
    "    b = a[:] # kopio a:sta, jolloin ei vaikuta a:han\n",
    "    del(b[i]) # poistetaan rivi i\n",
    "    b = zip(*b) # järjestetään sarakkeittain\n",
    "    del(b[j]) # poistetaan sarake j\n",
    "    b = zip(*b) # järjestetään riveittäin\n",
    "    return b # palautetaan alimatriisi b\n",
    "\n",
    "def determinantti(a):\n",
    "    if len(a) == 1: # \n",
    "        return a[0][0]\n",
    "    else:\n",
    "        n=len(a)\n",
    "        det = 0\n",
    "        for i in range(n): # käydään rivi 0 läpi sarakkeittain; a[0][i]\n",
    "            # kutsutaan rekursiivisesti ja lisätään summaan\n",
    "            det += a[0][i] * (-1)**(i) * determinantti(alimatriisi(a,0,i)) \n",
    "        return det #Adds successive elements times their cofactors\n",
    "\n",
    "def idmatriisi(n):\n",
    "    # diagonaalilla x=y, jolloin arvo on 1, muulloin 0\n",
    "    return [[long(x == y) for x in range(0, n)] for y in range(0, n)] \n",
    "\n",
    "def adjA(a):\n",
    "    n = len(a)\n",
    "    adja = idmatriisi(n)\n",
    "    for rivi in xrange(n):\n",
    "        for sar in xrange(n):\n",
    "            adja[rivi][sar] = (-1)**(rivi+sar) * determinantti(alimatriisi(a,rivi,sar))            \n",
    "    return adja\n",
    "\n",
    "def lea(a, b): #laajennettu Eukleideen algoritmi\n",
    "    if b == 0:\n",
    "        return (1, 0)\n",
    "    else:\n",
    "        (x, y) = lea(b, a % b)\n",
    "        return (y, x - (a / b) * y)\n",
    "\n",
    "def invmodp(a, p):\n",
    "    a = a % p\n",
    "    if (a == 0):\n",
    "        return 0\n",
    "    (x,y) = lea(p, a % p)\n",
    "    return y % p\n",
    "\n",
    "def invmatmod(a, p):\n",
    "    deta=determinantti(a)\n",
    "    n=len(a)\n",
    "    if deta==0: # determinanttitarkistus 1\n",
    "        print \"Determinantti on 0. Käänteismatriisia ei voi laskea.\"\n",
    "        return 0\n",
    "    elif syt(deta,p)!=1: # determinanttitarkistus 2\n",
    "        print \"Matriisin A determinantilla ja arvolla p on yhteisiä tekijöitä.\"\n",
    "        print \"Käänteismatriisia ei voi laskea.\"\n",
    "        return 0\n",
    "    else:\n",
    "        komat=adjA(a)\n",
    "        kaant_komat=trans(komat)\n",
    "        detmod=invmodp(deta,p)\n",
    "        ainvmod=[[(detmod*kaant_komat[rivi][sar])%p for sar in range(n) ] \\\n",
    "                 for rivi in range(n)]\n",
    "        return ainvmod"
   ]
  },
  {
   "cell_type": "markdown",
   "metadata": {
    "collapsed": true
   },
   "source": [
    "Lasketaan esimerkkimatriisien käänteismatriiseja modulo p ja tehdään lisäksi taskistus laskemalla $AxA^{-1}(\\mod p)$. Käytetään tässä apuna numpy-kirjaston matriisilaskentaa (np.matrix)."
   ]
  },
  {
   "cell_type": "markdown",
   "metadata": {},
   "source": [
    "### Esimerkkejä"
   ]
  },
  {
   "cell_type": "markdown",
   "metadata": {},
   "source": [
    "#### Esimerkki 1"
   ]
  },
  {
   "cell_type": "markdown",
   "metadata": {},
   "source": [
    "Matriisi \n",
    "$A = \n",
    " \\begin{pmatrix}\n",
    "  5 & 8 \\\\\n",
    "  8 & 3 \n",
    " \\end{pmatrix}$ ja $p=26$"
   ]
  },
  {
   "cell_type": "code",
   "execution_count": 33,
   "metadata": {
    "collapsed": false
   },
   "outputs": [
    {
     "data": {
      "text/plain": [
       "matrix([[ 1,  6],\n",
       "        [ 6, 19]])"
      ]
     },
     "execution_count": 33,
     "metadata": {},
     "output_type": "execute_result"
    }
   ],
   "source": [
    "matriisi1=[[5,8],[8,3]]\n",
    "np.matrix(invmatmod(matriisi1,26))"
   ]
  },
  {
   "cell_type": "markdown",
   "metadata": {},
   "source": [
    "Saadaan $A^{-1} = \n",
    " \\begin{pmatrix}\n",
    "  1 & 6 \\\\\n",
    "  6 & 19 \n",
    " \\end{pmatrix}(\\mod 26)$<br><br>\n",
    " Lasketaan vielä tarkistus,\n",
    " $AxA^{-1}(\\mod 26)$, jonka tulos pitäisi olla identiteettimatriisi $I$"
   ]
  },
  {
   "cell_type": "code",
   "execution_count": 34,
   "metadata": {
    "collapsed": false
   },
   "outputs": [
    {
     "data": {
      "text/plain": [
       "matrix([[1, 0],\n",
       "        [0, 1]])"
      ]
     },
     "execution_count": 34,
     "metadata": {},
     "output_type": "execute_result"
    }
   ],
   "source": [
    "# tarkistus\n",
    "np.matrix(matriisi1)*np.matrix(invmatmod(matriisi1,26))%26"
   ]
  },
  {
   "cell_type": "markdown",
   "metadata": {},
   "source": [
    "#### Esimerkki 2"
   ]
  },
  {
   "cell_type": "markdown",
   "metadata": {},
   "source": [
    "$A =\n",
    " \\begin{pmatrix}\n",
    "  6 & 24 & 1 \\\\\n",
    "  13 & 16 & 10 \\\\\n",
    "  20 & 17 & 15\n",
    " \\end{pmatrix}$ ja $p=26$"
   ]
  },
  {
   "cell_type": "code",
   "execution_count": 35,
   "metadata": {
    "collapsed": false
   },
   "outputs": [
    {
     "data": {
      "text/plain": [
       "matrix([[ 8,  5, 10],\n",
       "        [21,  8, 21],\n",
       "        [21, 12,  8]])"
      ]
     },
     "execution_count": 35,
     "metadata": {},
     "output_type": "execute_result"
    }
   ],
   "source": [
    "matriisi2=[[6, 24, 1], [13, 16, 10], [20, 17, 15]]\n",
    "np.matrix(invmatmod(matriisi2,26))"
   ]
  },
  {
   "cell_type": "markdown",
   "metadata": {},
   "source": [
    "Saadaan $A^{-1} = \n",
    " \\begin{pmatrix}\n",
    "  8 & 5 & 10 \\\\\n",
    "  21 & 8 & 21 \\\\\n",
    "  21 & 12 & 8\n",
    " \\end{pmatrix}(\\mod 26)$ <br><br>\n",
    " Lasketaan vielä tarkistus,\n",
    " $AxA^{-1}(\\mod 26)$, jonka tulos pitäisi olla identiteettimatriisi $I$"
   ]
  },
  {
   "cell_type": "code",
   "execution_count": 36,
   "metadata": {
    "collapsed": true
   },
   "outputs": [],
   "source": [
    "# Lasketaan vielä tarkistus,\n",
    "#  $AxA^{-1}(\\mod 26)$, jonka tulos pitäisi olla identiteettimatriisi $I$"
   ]
  },
  {
   "cell_type": "code",
   "execution_count": 37,
   "metadata": {
    "collapsed": false
   },
   "outputs": [
    {
     "data": {
      "text/plain": [
       "matrix([[1, 0, 0],\n",
       "        [0, 1, 0],\n",
       "        [0, 0, 1]])"
      ]
     },
     "execution_count": 37,
     "metadata": {},
     "output_type": "execute_result"
    }
   ],
   "source": [
    "np.matrix(matriisi2)*np.matrix(invmatmod(matriisi2,26))%26"
   ]
  },
  {
   "cell_type": "markdown",
   "metadata": {},
   "source": [
    "#### Esimerkki 3"
   ]
  },
  {
   "cell_type": "markdown",
   "metadata": {},
   "source": [
    "$A = \n",
    " \\begin{pmatrix}\n",
    "  1 & 0 & 9 & 0 \\\\\n",
    "  0 & 2 & 3 & 0 \\\\\n",
    "  3 & 4 & 0 & 1 \\\\\n",
    "  10 & 1 & 2 & 1 \\\\\n",
    " \\end{pmatrix}$ ja $p=13$"
   ]
  },
  {
   "cell_type": "code",
   "execution_count": 38,
   "metadata": {
    "collapsed": false
   },
   "outputs": [
    {
     "data": {
      "text/plain": [
       "matrix([[ 0,  3, 11,  2],\n",
       "        [ 2,  1,  4,  9],\n",
       "        [ 3,  4,  6,  7],\n",
       "        [ 5,  0,  4, 10]])"
      ]
     },
     "execution_count": 38,
     "metadata": {},
     "output_type": "execute_result"
    }
   ],
   "source": [
    "matriisi3=[[1, 0, 9, 0], [0, 2, 3, 0], [3, 4, 0, 1], [10, 1, 2, 1]]\n",
    "np.matrix(invmatmod(matriisi3,13))"
   ]
  },
  {
   "cell_type": "markdown",
   "metadata": {},
   "source": [
    "Saadaan $A^{-1} = \n",
    " \\begin{pmatrix}\n",
    "  0 & 3 & 11 & 2 \\\\\n",
    "  2 & 1 & 4 & 9 \\\\\n",
    "  3 & 4 & 6 & 7 \\\\\n",
    "  5 & 0 & 4 & 10\n",
    " \\end{pmatrix}(\\mod 26)$<br><br>\n",
    " Lasketaan vielä tarkistus,\n",
    " $AxA^{-1}(\\mod 26)$, jonka tulos pitäisi olla identiteettimatriisi $I$"
   ]
  },
  {
   "cell_type": "code",
   "execution_count": 39,
   "metadata": {
    "collapsed": false
   },
   "outputs": [
    {
     "data": {
      "text/plain": [
       "matrix([[1, 0, 0, 0],\n",
       "        [0, 1, 0, 0],\n",
       "        [0, 0, 1, 0],\n",
       "        [0, 0, 0, 1]])"
      ]
     },
     "execution_count": 39,
     "metadata": {},
     "output_type": "execute_result"
    }
   ],
   "source": [
    "np.matrix(matriisi3)*np.matrix(invmatmod(matriisi3,13))%13"
   ]
  },
  {
   "cell_type": "markdown",
   "metadata": {},
   "source": [
    "#### Esimerkki 4"
   ]
  },
  {
   "cell_type": "markdown",
   "metadata": {},
   "source": [
    "$A = \n",
    " \\begin{pmatrix}\n",
    "  1 & 2 & 3 \\\\\n",
    "  4 & 5 & 6 \\\\\n",
    "  7 & 8 & 9\n",
    " \\end{pmatrix}$ ja $p=7$,<br>\n",
    " jossa matriisin A determinantti on 0, eikä käänteismatriisia voi laskea."
   ]
  },
  {
   "cell_type": "code",
   "execution_count": 40,
   "metadata": {
    "collapsed": false
   },
   "outputs": [
    {
     "name": "stdout",
     "output_type": "stream",
     "text": [
      "Determinantti on 0. Käänteismatriisia ei voi laskea.\n"
     ]
    },
    {
     "data": {
      "text/plain": [
       "matrix([[0]])"
      ]
     },
     "execution_count": 40,
     "metadata": {},
     "output_type": "execute_result"
    }
   ],
   "source": [
    "matriisi4=[[1,2,3],[4,5,6],[7,8,9]]\n",
    "np.matrix(invmatmod(matriisi4,7))"
   ]
  },
  {
   "cell_type": "markdown",
   "metadata": {},
   "source": [
    "#### Esimerkki 5 a)"
   ]
  },
  {
   "cell_type": "markdown",
   "metadata": {},
   "source": [
    "Matriisi \n",
    "$A = \n",
    " \\begin{pmatrix}\n",
    "  1 & 3 \\\\\n",
    "  1 & 5 \n",
    " \\end{pmatrix}$ ja $p=26$,<br>jossa matriisin A determinantti ja kokonaisluku p ovat molemmat kahdella jaollisia, joten kyseistä algoritmia ei voi käyttää matriisin A kääntämiseen modulo p."
   ]
  },
  {
   "cell_type": "code",
   "execution_count": 41,
   "metadata": {
    "collapsed": false
   },
   "outputs": [
    {
     "name": "stdout",
     "output_type": "stream",
     "text": [
      "Matriisin A determinantilla ja arvolla p on yhteisiä tekijöitä.\n",
      "Käänteismatriisia ei voi laskea.\n"
     ]
    },
    {
     "data": {
      "text/plain": [
       "matrix([[0]])"
      ]
     },
     "execution_count": 41,
     "metadata": {},
     "output_type": "execute_result"
    }
   ],
   "source": [
    "matriisi5=[[1, 3], [1, 5]]\n",
    "np.matrix(invmatmod(matriisi5,26))"
   ]
  },
  {
   "cell_type": "markdown",
   "metadata": {},
   "source": [
    "#### Esimerkki 5 b)"
   ]
  },
  {
   "cell_type": "markdown",
   "metadata": {},
   "source": [
    "Matriisi \n",
    "$A = \n",
    " \\begin{pmatrix}\n",
    "  1 & 3 \\\\\n",
    "  1 & 5 \n",
    " \\end{pmatrix}$ ja $p=7$    "
   ]
  },
  {
   "cell_type": "code",
   "execution_count": 42,
   "metadata": {
    "collapsed": false
   },
   "outputs": [
    {
     "data": {
      "text/plain": [
       "matrix([[6, 2],\n",
       "        [3, 4]])"
      ]
     },
     "execution_count": 42,
     "metadata": {},
     "output_type": "execute_result"
    }
   ],
   "source": [
    "np.matrix(invmatmod(matriisi5,7))"
   ]
  },
  {
   "cell_type": "markdown",
   "metadata": {},
   "source": [
    "Saadaan $A^{-1} = \n",
    " \\begin{pmatrix}\n",
    "  6 & 2 \\\\\n",
    "  3 & 4 \n",
    " \\end{pmatrix}(\\mod 7)$<br><br>\n",
    " Lasketaan vielä tarkistus,\n",
    " $AxA^{-1}(\\mod 7)$, jonka tulos pitäisi olla identiteettimatriisi $I$"
   ]
  },
  {
   "cell_type": "code",
   "execution_count": 43,
   "metadata": {
    "collapsed": false
   },
   "outputs": [
    {
     "data": {
      "text/plain": [
       "matrix([[1, 0],\n",
       "        [0, 1]])"
      ]
     },
     "execution_count": 43,
     "metadata": {},
     "output_type": "execute_result"
    }
   ],
   "source": [
    "np.matrix(matriisi5)*np.matrix(invmatmod(matriisi5,7))%7"
   ]
  }
 ],
 "metadata": {
  "kernelspec": {
   "display_name": "Python 2",
   "language": "python",
   "name": "python2"
  },
  "language_info": {
   "codemirror_mode": {
    "name": "ipython",
    "version": 2
   },
   "file_extension": ".py",
   "mimetype": "text/x-python",
   "name": "python",
   "nbconvert_exporter": "python",
   "pygments_lexer": "ipython2",
   "version": "2.7.11"
  }
 },
 "nbformat": 4,
 "nbformat_minor": 0
}
