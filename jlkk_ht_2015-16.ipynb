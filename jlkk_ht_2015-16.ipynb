{
 "cells": [
  {
   "cell_type": "markdown",
   "metadata": {},
   "source": [
    "\\tableofcontents\n",
    "\\newpage"
   ]
  },
  {
   "cell_type": "markdown",
   "metadata": {},
   "source": [
    "# JLKK ht\n",
    "<code>\n",
    "2015-16</code>"
   ]
  },
  {
   "cell_type": "markdown",
   "metadata": {},
   "source": [
    "## Document level Twitter message sentiment analysis"
   ]
  },
  {
   "cell_type": "markdown",
   "metadata": {},
   "source": [
    "Assignment is to build a model that predicts Twitter message categories (positive, neutral, negative). LinearSVC modelling was recommended."
   ]
  },
  {
   "cell_type": "markdown",
   "metadata": {},
   "source": [
    "## Given material"
   ]
  },
  {
   "cell_type": "markdown",
   "metadata": {},
   "source": [
    "* training data: train_data.tsv\n",
    "* test data: devel_data.tsv\n",
    "* evaluation code: evaluator.py, this needs to be used in final evaluation, calculates F-score for positive and negative message predictions vs. real labels"
   ]
  },
  {
   "cell_type": "markdown",
   "metadata": {},
   "source": [
    "## Shortly regarding the report content"
   ]
  },
  {
   "cell_type": "markdown",
   "metadata": {},
   "source": [
    "The processing can be shortly seen on the first page Tabel of Contents.\n",
    "\n",
    "This quite long report contains more detailed information how the data was processed and how the model was chosen. The numbering of titles and subtitles should make it easy for the reader/reviewer to follow the process and/or skip certain topics if needed. \n",
    "\n",
    "This report acts also as an opportunity document the learned topics that are easy to refer to and check when running into same tpoics in future assignments and courses. "
   ]
  },
  {
   "cell_type": "markdown",
   "metadata": {},
   "source": [
    "# Data processing"
   ]
  },
  {
   "cell_type": "markdown",
   "metadata": {},
   "source": [
    "## Import of needed libraries"
   ]
  },
  {
   "cell_type": "code",
   "execution_count": 1,
   "metadata": {
    "collapsed": false
   },
   "outputs": [],
   "source": [
    "import matplotlib.pyplot as plt\n",
    "import re\n",
    "import csv\n",
    "from textblob import TextBlob\n",
    "import pandas as pd\n",
    "import sklearn\n",
    "import pickle\n",
    "import numpy as np\n",
    "from sklearn.feature_extraction.text import CountVectorizer, TfidfTransformer\n",
    "from sklearn.naive_bayes import MultinomialNB\n",
    "from sklearn.svm import SVC, LinearSVC\n",
    "from sklearn.metrics import classification_report, f1_score, accuracy_score, \\\n",
    "confusion_matrix"
   ]
  },
  {
   "cell_type": "markdown",
   "metadata": {},
   "source": [
    "## Training data upload\n",
    "Reading the comma separated train_data.tsv and removing irrelevan columns id1 and id2."
   ]
  },
  {
   "cell_type": "markdown",
   "metadata": {},
   "source": [
    "With this data format and column naming, the columns can be referred with either train_tweets.label or train_tweets['label']."
   ]
  },
  {
   "cell_type": "code",
   "execution_count": 2,
   "metadata": {
    "collapsed": false
   },
   "outputs": [
    {
     "name": "stdout",
     "output_type": "stream",
     "text": [
      "      label                                            message\n",
      "0  positive  Gas by my house hit $3.39!!!! I'm going to Cha...\n",
      "1  negative  Iranian general says Israel's Iron Dome can't ...\n",
      "2  positive  with J Davlar 11th. Main rivals are team Polan...\n",
      "3  negative  Talking about ACT's && SAT's, deciding where I...\n",
      "4  negative  They may have a SuperBowl in Dallas, but Dalla...\n"
     ]
    }
   ],
   "source": [
    "train_tweets = pd.read_csv('train_data.tsv', sep='\\t', names=[\"id1\",\"id2\",\"label\", \\\n",
    "                                                              \"message\"])\n",
    "del train_tweets['id1'] # removing unnecessary first and second columns\n",
    "del train_tweets['id2']\n",
    "print train_tweets[:5]"
   ]
  },
  {
   "cell_type": "code",
   "execution_count": 3,
   "metadata": {
    "collapsed": false
   },
   "outputs": [
    {
     "data": {
      "text/html": [
       "<div>\n",
       "<table border=\"1\" class=\"dataframe\">\n",
       "  <thead>\n",
       "    <tr style=\"text-align: right;\">\n",
       "      <th></th>\n",
       "      <th></th>\n",
       "      <th>message</th>\n",
       "    </tr>\n",
       "    <tr>\n",
       "      <th>label</th>\n",
       "      <th></th>\n",
       "      <th></th>\n",
       "    </tr>\n",
       "  </thead>\n",
       "  <tbody>\n",
       "    <tr>\n",
       "      <th rowspan=\"4\" valign=\"top\">negative</th>\n",
       "      <th>count</th>\n",
       "      <td>854</td>\n",
       "    </tr>\n",
       "    <tr>\n",
       "      <th>unique</th>\n",
       "      <td>843</td>\n",
       "    </tr>\n",
       "    <tr>\n",
       "      <th>top</th>\n",
       "      <td>no way to underestimate the madness and cynici...</td>\n",
       "    </tr>\n",
       "    <tr>\n",
       "      <th>freq</th>\n",
       "      <td>2</td>\n",
       "    </tr>\n",
       "    <tr>\n",
       "      <th rowspan=\"4\" valign=\"top\">neutral</th>\n",
       "      <th>count</th>\n",
       "      <td>3055</td>\n",
       "    </tr>\n",
       "    <tr>\n",
       "      <th>unique</th>\n",
       "      <td>3033</td>\n",
       "    </tr>\n",
       "    <tr>\n",
       "      <th>top</th>\n",
       "      <td>Real Madrid have signed a seven-year-old Argen...</td>\n",
       "    </tr>\n",
       "    <tr>\n",
       "      <th>freq</th>\n",
       "      <td>2</td>\n",
       "    </tr>\n",
       "    <tr>\n",
       "      <th rowspan=\"4\" valign=\"top\">positive</th>\n",
       "      <th>count</th>\n",
       "      <td>2266</td>\n",
       "    </tr>\n",
       "    <tr>\n",
       "      <th>unique</th>\n",
       "      <td>2254</td>\n",
       "    </tr>\n",
       "    <tr>\n",
       "      <th>top</th>\n",
       "      <td>The Bulls head to CLE Friday night. One night ...</td>\n",
       "    </tr>\n",
       "    <tr>\n",
       "      <th>freq</th>\n",
       "      <td>2</td>\n",
       "    </tr>\n",
       "  </tbody>\n",
       "</table>\n",
       "</div>"
      ],
      "text/plain": [
       "                                                           message\n",
       "label                                                             \n",
       "negative count                                                 854\n",
       "         unique                                                843\n",
       "         top     no way to underestimate the madness and cynici...\n",
       "         freq                                                    2\n",
       "neutral  count                                                3055\n",
       "         unique                                               3033\n",
       "         top     Real Madrid have signed a seven-year-old Argen...\n",
       "         freq                                                    2\n",
       "positive count                                                2266\n",
       "         unique                                               2254\n",
       "         top     The Bulls head to CLE Friday night. One night ...\n",
       "         freq                                                    2"
      ]
     },
     "execution_count": 3,
     "metadata": {},
     "output_type": "execute_result"
    }
   ],
   "source": [
    "train_tweets.groupby('label').describe()"
   ]
  },
  {
   "cell_type": "markdown",
   "metadata": {},
   "source": [
    "## Data preprocessing\n"
   ]
  },
  {
   "cell_type": "markdown",
   "metadata": {},
   "source": [
    "Building and testing different text processing functions. Eventually combining the final function to process text prior vectorizing it."
   ]
  },
  {
   "cell_type": "markdown",
   "metadata": {},
   "source": [
    "### Tokenizing, splitting tweets into words"
   ]
  },
  {
   "cell_type": "code",
   "execution_count": 4,
   "metadata": {
    "collapsed": true
   },
   "outputs": [],
   "source": [
    "def split_into_words(text):\n",
    "    message = unicode(text, 'utf8')  # into proper unicode\n",
    "    return TextBlob(message).words # returns tweets tokenized into words"
   ]
  },
  {
   "cell_type": "code",
   "execution_count": 5,
   "metadata": {
    "collapsed": false
   },
   "outputs": [
    {
     "data": {
      "text/plain": [
       "0    Gas by my house hit $3.39!!!! I'm going to Cha...\n",
       "1    Iranian general says Israel's Iron Dome can't ...\n",
       "2    with J Davlar 11th. Main rivals are team Polan...\n",
       "3    Talking about ACT's && SAT's, deciding where I...\n",
       "4    They may have a SuperBowl in Dallas, but Dalla...\n",
       "Name: message, dtype: object"
      ]
     },
     "execution_count": 5,
     "metadata": {},
     "output_type": "execute_result"
    }
   ],
   "source": [
    "train_tweets.message.head()"
   ]
  },
  {
   "cell_type": "code",
   "execution_count": 6,
   "metadata": {
    "collapsed": false
   },
   "outputs": [
    {
     "data": {
      "text/plain": [
       "0    [Gas, by, my, house, hit, 3.39, I, 'm, going, ...\n",
       "1    [Iranian, general, says, Israel, 's, Iron, Dom...\n",
       "2    [with, J, Davlar, 11th, Main, rivals, are, tea...\n",
       "3    [Talking, about, ACT, 's, SAT, 's, deciding, w...\n",
       "4    [They, may, have, a, SuperBowl, in, Dallas, bu...\n",
       "Name: message, dtype: object"
      ]
     },
     "execution_count": 6,
     "metadata": {},
     "output_type": "execute_result"
    }
   ],
   "source": [
    "train_tweets.message.head().apply(split_into_words)"
   ]
  },
  {
   "cell_type": "markdown",
   "metadata": {},
   "source": [
    "### Cleaning the tweet message"
   ]
  },
  {
   "cell_type": "markdown",
   "metadata": {},
   "source": [
    "* processing tweet content\n",
    "    * www.* or https?://* to URL    \n",
    "    * @username to AT_USER\n",
    "    * remove of additional white spaces\n",
    "    * hash word (#word) replacement with plain word\n",
    "* tokenization into words\n",
    "* tokenization into lemmas, i.e. basic word form"
   ]
  },
  {
   "cell_type": "code",
   "execution_count": 7,
   "metadata": {
    "collapsed": true
   },
   "outputs": [],
   "source": [
    "# processes tweets into lower case and cleans irrelevant content\n",
    "def processTweet(tweet):  \n",
    "    # to lower case\n",
    "    tweet = tweet.lower() \n",
    "    # www.* or https?://* to URL\n",
    "    tweet = re.sub('((www\\.[^\\s]+)|(https?://[^\\s]+))','URL',tweet)     \n",
    "    # @username to AT_USER\n",
    "    tweet = re.sub('@[^\\s]+','AT_USER',tweet) \n",
    "    # remove additional white space\n",
    "    tweet = re.sub('[\\s]+', ' ', tweet) \n",
    "    # replace #word with plain word\n",
    "    tweet = re.sub(r'#([^\\s]+)', r'\\1', tweet) \n",
    "    return tweet"
   ]
  },
  {
   "cell_type": "code",
   "execution_count": 8,
   "metadata": {
    "collapsed": false
   },
   "outputs": [
    {
     "data": {
      "text/plain": [
       "0    gas by my house hit $3.39!!!! i'm going to cha...\n",
       "1    iranian general says israel's iron dome can't ...\n",
       "2    with j davlar 11th. main rivals are team polan...\n",
       "3    talking about act's && sat's, deciding where i...\n",
       "4    they may have a superbowl in dallas, but dalla...\n",
       "5    im bringing the monster load of candy tomorrow...\n",
       "6    apple software, retail chiefs out in overhaul:...\n",
       "7    livewire nadal confirmed for mexican open in f...\n",
       "8    iran us delisting mko from global terrorists l...\n",
       "9    expect light-moderate rains over e. visayas; c...\n",
       "Name: message, dtype: object"
      ]
     },
     "execution_count": 8,
     "metadata": {},
     "output_type": "execute_result"
    }
   ],
   "source": [
    "# test the funcion\n",
    "train_tweets.message.head(10).apply(processTweet)"
   ]
  },
  {
   "cell_type": "code",
   "execution_count": 9,
   "metadata": {
    "collapsed": false
   },
   "outputs": [
    {
     "data": {
      "text/plain": [
       "'#Livewire Nadal confirmed for Mexican Open in February: Rafael Nadal is set to play at the Me... http://bit.ly/WY4Vjy\\xc2\\xa0 #LiveWireAthletics'"
      ]
     },
     "execution_count": 9,
     "metadata": {},
     "output_type": "execute_result"
    }
   ],
   "source": [
    "train_tweets.message[7]"
   ]
  },
  {
   "cell_type": "code",
   "execution_count": 10,
   "metadata": {
    "collapsed": false
   },
   "outputs": [
    {
     "data": {
      "text/plain": [
       "'livewire nadal confirmed for mexican open in february: rafael nadal is set to play at the me... URL livewireathletics'"
      ]
     },
     "execution_count": 10,
     "metadata": {},
     "output_type": "execute_result"
    }
   ],
   "source": [
    "train_tweets.message.apply(processTweet)[7]"
   ]
  },
  {
   "cell_type": "markdown",
   "metadata": {},
   "source": [
    "### Combining functions together"
   ]
  },
  {
   "cell_type": "code",
   "execution_count": 11,
   "metadata": {
    "collapsed": false
   },
   "outputs": [
    {
     "data": {
      "text/plain": [
       "0    [gas, by, my, house, hit, 3.39, i, 'm, going, ...\n",
       "1    [iranian, general, says, israel, 's, iron, dom...\n",
       "2    [with, j, davlar, 11th, main, rivals, are, tea...\n",
       "3    [talking, about, act, 's, sat, 's, deciding, w...\n",
       "4    [they, may, have, a, superbowl, in, dallas, bu...\n",
       "5    [im, bringing, the, monster, load, of, candy, ...\n",
       "6    [apple, software, retail, chiefs, out, in, ove...\n",
       "7    [livewire, nadal, confirmed, for, mexican, ope...\n",
       "8    [iran, us, delisting, mko, from, global, terro...\n",
       "9    [expect, light-moderate, rains, over, e, visay...\n",
       "Name: message, dtype: object"
      ]
     },
     "execution_count": 11,
     "metadata": {},
     "output_type": "execute_result"
    }
   ],
   "source": [
    "def split_into_words(text):\n",
    "    message = unicode(text, 'utf8').lower()\n",
    "    processed_message=processTweet(message)\n",
    "    words = TextBlob(processed_message).words # for each processed tweet, list of words\n",
    "    return [word for word in words] # return list of words of the tweet\n",
    "\n",
    "train_tweets.message.head(10).apply(split_into_words)"
   ]
  },
  {
   "cell_type": "markdown",
   "metadata": {},
   "source": [
    "### Lemmatizing the tweet messages"
   ]
  },
  {
   "cell_type": "markdown",
   "metadata": {},
   "source": [
    "Instead of words, this function returns lemmas, the words in base form. This will be used in further tweet message pre-processing."
   ]
  },
  {
   "cell_type": "code",
   "execution_count": 12,
   "metadata": {
    "collapsed": false
   },
   "outputs": [
    {
     "data": {
      "text/plain": [
       "0    [gas, by, my, house, hit, 3.39, i, 'm, going, ...\n",
       "1    [iranian, general, say, israel, 's, iron, dome...\n",
       "2    [with, j, davlar, 11th, main, rival, are, team...\n",
       "3    [talking, about, act, 's, sat, 's, deciding, w...\n",
       "4    [they, may, have, a, superbowl, in, dallas, bu...\n",
       "5    [im, bringing, the, monster, load, of, candy, ...\n",
       "6    [apple, software, retail, chief, out, in, over...\n",
       "7    [livewire, nadal, confirmed, for, mexican, ope...\n",
       "8    [iran, u, delisting, mko, from, global, terror...\n",
       "9    [expect, light-moderate, rain, over, e, visaya...\n",
       "Name: message, dtype: object"
      ]
     },
     "execution_count": 12,
     "metadata": {},
     "output_type": "execute_result"
    }
   ],
   "source": [
    "def split_into_lemmas(text):\n",
    "    message = unicode(text, 'utf8').lower()\n",
    "    processed_message=processTweet(message)\n",
    "    words = TextBlob(processed_message).words   \n",
    "    return [word.lemma for word in words] # return the words as lemma\n",
    "\n",
    "train_tweets.message.head(10).apply(split_into_lemmas)"
   ]
  },
  {
   "cell_type": "markdown",
   "metadata": {},
   "source": [
    "# Data to vectors"
   ]
  },
  {
   "cell_type": "markdown",
   "metadata": {},
   "source": [
    "In order to be able to analyze the tweets with machine learning model, the processed words/lemmas that represent each individual tweet need to be transformed into vectors.\n",
    "The bag-of-words (BOW) model will be formed in these three steps:"
   ]
  },
  {
   "cell_type": "markdown",
   "metadata": {},
   "source": [
    "1. Calculate term frequency: how many times does a word occur in each tweet message\n",
    "2. Calculated inverse document frequency: when weighting the counts, the frequent tokens get lower weight\n",
    "3. Normalize the vectors"
   ]
  },
  {
   "cell_type": "markdown",
   "metadata": {},
   "source": [
    "Each vector has as many dimensions as there are unique words in the training data tweet messages, i.e. in document level corpus."
   ]
  },
  {
   "cell_type": "code",
   "execution_count": 13,
   "metadata": {
    "collapsed": false
   },
   "outputs": [
    {
     "name": "stdout",
     "output_type": "stream",
     "text": [
      "14002\n"
     ]
    }
   ],
   "source": [
    "# using the split_into_lemmas for text processing\n",
    "# forming the bag-of-words\n",
    "bow_transformer = CountVectorizer(analyzer=split_into_lemmas).fit(train_tweets['message'])\n",
    "print len(bow_transformer.vocabulary_)"
   ]
  },
  {
   "cell_type": "markdown",
   "metadata": {},
   "source": [
    "## Vectorizing example training data tweet message "
   ]
  },
  {
   "cell_type": "markdown",
   "metadata": {},
   "source": [
    "To better grasp the bag-of-words and vectorizing, next one example tweet message and its bag-of-words counts as a vector."
   ]
  },
  {
   "cell_type": "code",
   "execution_count": 14,
   "metadata": {
    "collapsed": false
   },
   "outputs": [
    {
     "name": "stdout",
     "output_type": "stream",
     "text": [
      "Talking about ACT's && SAT's, deciding where I want to go to college, applying to colleges and everything about college stresses me out.\n"
     ]
    }
   ],
   "source": [
    "# the fourth tweet message taken as an example case\n",
    "# alternative data column call: message_sample = train_tweets['message'][3]\n",
    "message_sample = train_tweets.message[3]\n",
    "print message_sample"
   ]
  },
  {
   "cell_type": "markdown",
   "metadata": {},
   "source": [
    "### Bag-of-words"
   ]
  },
  {
   "cell_type": "markdown",
   "metadata": {},
   "source": [
    " Transforming the tweet message wirt bow_transformer:"
   ]
  },
  {
   "cell_type": "code",
   "execution_count": 15,
   "metadata": {
    "collapsed": false
   },
   "outputs": [
    {
     "name": "stdout",
     "output_type": "stream",
     "text": [
      "bow sample:\n",
      "  (0, 94)\t2\n",
      "  (0, 1060)\t2\n",
      "  (0, 1116)\t1\n",
      "  (0, 1420)\t1\n",
      "  (0, 1534)\t1\n",
      "  (0, 3258)\t3\n",
      "  (0, 3872)\t1\n",
      "  (0, 4721)\t1\n",
      "  (0, 5551)\t1\n",
      "  (0, 6308)\t1\n",
      "  (0, 8010)\t1\n",
      "  (0, 9113)\t1\n",
      "  (0, 10956)\t1\n",
      "  (0, 11957)\t1\n",
      "  (0, 12230)\t1\n",
      "  (0, 12599)\t3\n",
      "  (0, 13391)\t1\n",
      "  (0, 13550)\t1\n",
      "\n",
      " bow sample shape:  (1, 14002)\n"
     ]
    }
   ],
   "source": [
    "bow_sample = bow_transformer.transform([message_sample])\n",
    "print \"bow sample:\\n\",bow_sample \n",
    "print \"\\n bow sample shape: \",bow_sample.shape"
   ]
  },
  {
   "cell_type": "markdown",
   "metadata": {},
   "source": [
    "Which words appear 3 times? Let's look at it and perform a sanity check."
   ]
  },
  {
   "cell_type": "code",
   "execution_count": 16,
   "metadata": {
    "collapsed": false
   },
   "outputs": [
    {
     "name": "stdout",
     "output_type": "stream",
     "text": [
      "college\n",
      "to\n"
     ]
    }
   ],
   "source": [
    "print bow_transformer.get_feature_names()[3258]\n",
    "print bow_transformer.get_feature_names()[12599]"
   ]
  },
  {
   "cell_type": "code",
   "execution_count": 17,
   "metadata": {
    "collapsed": false
   },
   "outputs": [
    {
     "name": "stdout",
     "output_type": "stream",
     "text": [
      "3258\n",
      "12599\n"
     ]
    }
   ],
   "source": [
    "print bow_transformer.vocabulary_['college']\n",
    "print bow_transformer.vocabulary_['to']"
   ]
  },
  {
   "cell_type": "markdown",
   "metadata": {},
   "source": [
    "The bag-of-words counts on document level, training data tweet messages, are a large, sparse matrix. Most of the elements are zero, only 0.13 % have other values."
   ]
  },
  {
   "cell_type": "code",
   "execution_count": 18,
   "metadata": {
    "collapsed": false
   },
   "outputs": [
    {
     "name": "stdout",
     "output_type": "stream",
     "text": [
      "sparse matrix shape: (6175, 14002)\n",
      "number of non-zeros: 113701\n",
      "sparsity: 0.13%\n"
     ]
    }
   ],
   "source": [
    "messages_bow = bow_transformer.transform(train_tweets['message'])\n",
    "print 'sparse matrix shape:', messages_bow.shape\n",
    "print 'number of non-zeros:', messages_bow.nnz\n",
    "print 'sparsity: %.2f%%' % (100.0 * messages_bow.nnz / \\\n",
    "                            (messages_bow.shape[0] * messages_bow.shape[1]))"
   ]
  },
  {
   "cell_type": "markdown",
   "metadata": {},
   "source": [
    "### Tf.idf transformer"
   ]
  },
  {
   "cell_type": "markdown",
   "metadata": {},
   "source": [
    "With TfidfTransformer, the term weighting and normalization can be done with tf.idf."
   ]
  },
  {
   "cell_type": "markdown",
   "metadata": {},
   "source": [
    "* tf = term frequency\n",
    "* idf = inverse document frequency"
   ]
  },
  {
   "cell_type": "code",
   "execution_count": 19,
   "metadata": {
    "collapsed": true
   },
   "outputs": [],
   "source": [
    "tfidf_transformer = TfidfTransformer().fit(messages_bow)"
   ]
  },
  {
   "cell_type": "markdown",
   "metadata": {},
   "source": [
    "With the tf.idf transformer, let's calculate the tf.idf for the example tweet message used earlier."
   ]
  },
  {
   "cell_type": "code",
   "execution_count": 20,
   "metadata": {
    "collapsed": false
   },
   "outputs": [
    {
     "name": "stdout",
     "output_type": "stream",
     "text": [
      "  (0, 13550)\t0.183406944429\n",
      "  (0, 13391)\t0.14914600226\n",
      "  (0, 12599)\t0.190272303435\n",
      "  (0, 12230)\t0.220825446642\n",
      "  (0, 11957)\t0.286841022167\n",
      "  (0, 10956)\t0.154074391556\n",
      "  (0, 9113)\t0.11503867933\n",
      "  (0, 8010)\t0.12642275891\n",
      "  (0, 6308)\t0.078081397546\n",
      "  (0, 5551)\t0.132434809679\n",
      "  (0, 4721)\t0.207953234593\n",
      "  (0, 3872)\t0.264835830325\n",
      "  (0, 3258)\t0.599484521331\n",
      "  (0, 1534)\t0.286841022167\n",
      "  (0, 1420)\t0.0778829105984\n",
      "  (0, 1116)\t0.201945410247\n",
      "  (0, 1060)\t0.26222867465\n",
      "  (0, 94)\t0.172125964625\n"
     ]
    }
   ],
   "source": [
    "tfidf_sample = tfidf_transformer.transform(bow_sample)\n",
    "print tfidf_sample"
   ]
  },
  {
   "cell_type": "markdown",
   "metadata": {},
   "source": [
    "From this we can see the term frequency"
   ]
  },
  {
   "cell_type": "markdown",
   "metadata": {},
   "source": [
    "* college (3258), idf=0.599484521331\n",
    "* to (12599), idf=0.190272303435"
   ]
  },
  {
   "cell_type": "markdown",
   "metadata": {},
   "source": [
    "Checking the tf.idf of the example tweet message's most frequent words \"college\" and \"to\". The smaller the number, the more often that word appears in the full list of training data corpus."
   ]
  },
  {
   "cell_type": "code",
   "execution_count": 21,
   "metadata": {
    "collapsed": false
   },
   "outputs": [
    {
     "name": "stdout",
     "output_type": "stream",
     "text": [
      "6.29443888722\n",
      "1.99781202564\n"
     ]
    }
   ],
   "source": [
    "print tfidf_transformer.idf_[bow_transformer.vocabulary_['college']]\n",
    "print tfidf_transformer.idf_[bow_transformer.vocabulary_['to']]"
   ]
  },
  {
   "cell_type": "markdown",
   "metadata": {},
   "source": [
    "## Transforming all training data tweet messages with td.idf tranformer"
   ]
  },
  {
   "cell_type": "markdown",
   "metadata": {},
   "source": [
    "The entire bag-of-words corpus into TF-IDF corpus at once"
   ]
  },
  {
   "cell_type": "code",
   "execution_count": 22,
   "metadata": {
    "collapsed": false
   },
   "outputs": [
    {
     "name": "stdout",
     "output_type": "stream",
     "text": [
      "(6175, 14002)\n"
     ]
    }
   ],
   "source": [
    "messages_tfidf = tfidf_transformer.transform(messages_bow)\n",
    "print messages_tfidf.shape"
   ]
  },
  {
   "cell_type": "markdown",
   "metadata": {
    "collapsed": true
   },
   "source": [
    "# Modelling with LinearSVC"
   ]
  },
  {
   "cell_type": "markdown",
   "metadata": {},
   "source": [
    "## Finding the most suitable C value for the model, using 3 fold Cross Validation"
   ]
  },
  {
   "cell_type": "code",
   "execution_count": 23,
   "metadata": {
    "collapsed": false
   },
   "outputs": [
    {
     "name": "stdout",
     "output_type": "stream",
     "text": [
      "0.1 [ 0.64271845  0.62876579  0.62275158]\n",
      "1 [ 0.66553398  0.65257532  0.64073894]\n",
      "10 [ 0.63349515  0.63216715  0.62032086]\n",
      "100 [ 0.62038835  0.62293489  0.61011181]\n",
      "1000 [ 0.61504854  0.6122449   0.60136121]\n"
     ]
    }
   ],
   "source": [
    "from sklearn.svm import SVC,LinearSVC\n",
    "from sklearn import svm, cross_validation\n",
    "from sklearn.cross_validation import cross_val_score\n",
    "\n",
    "for c in [0.1, 1, 10, 100, 1000]:\n",
    "    clf=svm.LinearSVC(C=c)\n",
    "    scores=cross_validation.cross_val_score(clf, messages_tfidf, \\\n",
    "                                            train_tweets.label, n_jobs=-1)\n",
    "    print c, scores"
   ]
  },
  {
   "cell_type": "markdown",
   "metadata": {},
   "source": [
    "From the C values, 1 seems to fit best for the training data, so let's use that."
   ]
  },
  {
   "cell_type": "markdown",
   "metadata": {},
   "source": [
    "## Training the model"
   ]
  },
  {
   "cell_type": "code",
   "execution_count": 24,
   "metadata": {
    "collapsed": false
   },
   "outputs": [
    {
     "name": "stdout",
     "output_type": "stream",
     "text": [
      "Wall time: 163 ms\n"
     ]
    }
   ],
   "source": [
    "clf=svm.LinearSVC(C=1)\n",
    "%time label_detector = clf.fit(messages_tfidf, train_tweets.label)"
   ]
  },
  {
   "cell_type": "markdown",
   "metadata": {},
   "source": [
    "### Testing with trainig data"
   ]
  },
  {
   "cell_type": "markdown",
   "metadata": {},
   "source": [
    "Note! Testing with training data does not give any reliable results regarding the final model accuracy. Testing wit training data gives over optimistic results. However it it good to test at this point that the result is better than coin tossing. Additionally testing the evaluation functions."
   ]
  },
  {
   "cell_type": "markdown",
   "metadata": {},
   "source": [
    "Training data predictions"
   ]
  },
  {
   "cell_type": "code",
   "execution_count": 25,
   "metadata": {
    "collapsed": false
   },
   "outputs": [
    {
     "name": "stdout",
     "output_type": "stream",
     "text": [
      "['positive' 'negative' 'positive' ..., 'positive' 'neutral' 'negative']\n"
     ]
    }
   ],
   "source": [
    "train_predictions = clf.predict(messages_tfidf)\n",
    "print train_predictions"
   ]
  },
  {
   "cell_type": "markdown",
   "metadata": {},
   "source": [
    "The given evaluation code with adjustment to run the script in ipython notebook:"
   ]
  },
  {
   "cell_type": "code",
   "execution_count": 26,
   "metadata": {
    "collapsed": false
   },
   "outputs": [],
   "source": [
    "## Muokattua koodia:\n",
    "\n",
    "from collections import defaultdict\n",
    "# import codecs\n",
    "# import argparse\n",
    "\n",
    "# evaluate('true_test.txt', 'pred_test.txt')\n",
    "\n",
    "# def evaluate(true_path, prediction_path):\n",
    "#     true_handle = codecs.open(true_path, 'r', 'utf-8')\n",
    "#     prediction_handle = codecs.open(prediction_path, 'r', 'utf-8')\n",
    "    \n",
    "#     true_labels = [line.split('\\t')[2] for line in true_handle.readlines()]\n",
    "#     predicted_labels = [line.split('\\t')[2] for line in prediction_handle.readlines()]\n",
    "    \n",
    "#     print \"F-score: %s\" % _macro_f_score(true_labels, predicted_labels)\n",
    "    \n",
    "def evaluation_modified(true_labels, predicted_labels):\n",
    "    print \"F-score: %s\" % _macro_f_score(true_labels, predicted_labels)\n",
    "    \n",
    "def _macro_f_score(true_labels, predicted_labels):\n",
    "    \"\"\"\n",
    "    Mimics the official SemEval evaluation,\n",
    "    which calculates the macro-averaged f-score of positive and negative class.\n",
    "    Neutral class is ignored.\n",
    "    The input should be lists or other iterable types (e.g. numpy arrays).\n",
    "    \"\"\"\n",
    "    \n",
    "    counts = defaultdict(lambda:defaultdict(int))\n",
    "    \n",
    "    for i in range(len(true_labels)):\n",
    "        if predicted_labels[i] == true_labels[i] and predicted_labels[i] in \\\n",
    "        ['positive', 'negative']:\n",
    "            counts[predicted_labels[i]]['tp'] += 1\n",
    "        elif predicted_labels[i] != true_labels[i] and predicted_labels[i] in \\\n",
    "        ['positive', 'negative']:\n",
    "            counts[predicted_labels[i]]['fp'] += 1\n",
    "            \n",
    "    counts['positive']['all_true'] = list(true_labels).count('positive')\n",
    "    counts['negative']['all_true'] = list(true_labels).count('negative')\n",
    "\n",
    "    try:\n",
    "        precision_positive = float(counts['positive']['tp']) / \\\n",
    "        (counts['positive']['tp'] + counts['positive']['fp'])\n",
    "        recall_positive = float(counts['positive']['tp']) / \\\n",
    "        counts['positive']['all_true']\n",
    "        f_score_positive = 2 * precision_positive * recall_positive / \\\n",
    "        (precision_positive + recall_positive)\n",
    "    except:\n",
    "        f_score_positive = 0.0\n",
    "    \n",
    "    try:\n",
    "        precision_negative = float(counts['negative']['tp']) / \\\n",
    "        (counts['negative']['tp'] + counts['negative']['fp'])\n",
    "        recall_negative = float(counts['negative']['tp']) / \\\n",
    "        counts['negative']['all_true']\n",
    "        f_score_negative = 2 * precision_negative * recall_negative / \\\n",
    "        (precision_negative + recall_negative)\n",
    "    except:\n",
    "        f_score_negative = 0.0\n",
    "    \n",
    "    \n",
    "    return (f_score_positive + f_score_negative) / 2.0\n",
    "\n",
    "# if __name__ == '__main__':\n",
    "#     parser = argparse.ArgumentParser(description='Twitter sentiment evaluator script.')\n",
    "    #parser.add_argument('--true', help='Path to true labels', required=True)\n",
    "    #parser.add_argument('--predictions', help='Path to predicted labels', required=True)\n",
    "    \n",
    "    #args = vars(parser.parse_args())\n",
    "    \n",
    "    #evaluate(args['true'], args['predictions'])"
   ]
  },
  {
   "cell_type": "code",
   "execution_count": 27,
   "metadata": {
    "collapsed": false
   },
   "outputs": [
    {
     "name": "stdout",
     "output_type": "stream",
     "text": [
      "accuracy 0.983643724696\n",
      "\n",
      "confusion matrix\n",
      "[[ 827   19    8]\n",
      " [   2 3030   23]\n",
      " [   2   47 2217]]\n",
      "(row=expected, col=predicted)\n",
      "\n",
      "             precision    recall  f1-score   support\n",
      "\n",
      "   negative       1.00      0.97      0.98       854\n",
      "    neutral       0.98      0.99      0.99      3055\n",
      "   positive       0.99      0.98      0.98      2266\n",
      "\n",
      "avg / total       0.98      0.98      0.98      6175\n",
      "\n",
      "F-score: 0.981939866607\n"
     ]
    }
   ],
   "source": [
    "print 'accuracy', accuracy_score(train_tweets['label'], train_predictions)\n",
    "print '\\nconfusion matrix\\n', confusion_matrix(train_tweets['label'], train_predictions)\n",
    "print '(row=expected, col=predicted)\\n'\n",
    "\n",
    "print classification_report(train_tweets['label'], train_predictions)\n",
    "\n",
    "evaluation_modified(train_tweets['label'], train_predictions)"
   ]
  },
  {
   "cell_type": "markdown",
   "metadata": {},
   "source": [
    "The model seems to work well with the training data, but this does not tell anything about the real capability to predict the labels with unseen data. Next need to upload the unseen test data and perform the testing with it."
   ]
  },
  {
   "cell_type": "markdown",
   "metadata": {
    "collapsed": true
   },
   "source": [
    "## Test data"
   ]
  },
  {
   "cell_type": "markdown",
   "metadata": {},
   "source": [
    "### Test data load"
   ]
  },
  {
   "cell_type": "code",
   "execution_count": 28,
   "metadata": {
    "collapsed": false
   },
   "outputs": [
    {
     "name": "stdout",
     "output_type": "stream",
     "text": [
      "      label                                            message\n",
      "0   neutral  Won the match #getin . Plus, tomorrow is a ver...\n",
      "1  positive  Lunch from my new Lil spot ...THE COTTON BOWL ...\n",
      "2  positive  SNC Halloween Pr. Pumped. Let's work it for Su...\n",
      "3   neutral  Manchester United will try to return to winnin...\n",
      "4   neutral  Going to a bulls game with Aaliyah & hope next...\n"
     ]
    }
   ],
   "source": [
    "test_tweets = pd.read_csv('devel_data.tsv', sep='\\t', \\\n",
    "                          names=[\"id1\",\"id2\",\"label\", \"message\"])\n",
    "del test_tweets['id1']\n",
    "del test_tweets['id2']\n",
    "print test_tweets[:5]"
   ]
  },
  {
   "cell_type": "markdown",
   "metadata": {},
   "source": [
    "### Vectorizing test data tweet messages"
   ]
  },
  {
   "cell_type": "code",
   "execution_count": 29,
   "metadata": {
    "collapsed": false
   },
   "outputs": [],
   "source": [
    "test_messages_bow = bow_transformer.transform(test_tweets.message)\n",
    "test_messages_tfidf = tfidf_transformer.transform(test_messages_bow)"
   ]
  },
  {
   "cell_type": "markdown",
   "metadata": {
    "collapsed": true
   },
   "source": [
    "## Testing the model with test data"
   ]
  },
  {
   "cell_type": "markdown",
   "metadata": {},
   "source": [
    "### Checking with the first tweet message that has positive or negative real label."
   ]
  },
  {
   "cell_type": "code",
   "execution_count": 30,
   "metadata": {
    "collapsed": false
   },
   "outputs": [
    {
     "name": "stdout",
     "output_type": "stream",
     "text": [
      "neutral positive positive\n"
     ]
    }
   ],
   "source": [
    "print test_tweets.label[0], test_tweets.label[1], test_tweets.label[2]"
   ]
  },
  {
   "cell_type": "markdown",
   "metadata": {},
   "source": [
    "The second message has \"positive\" as the real label. Let's take a look at the message and processed message. "
   ]
  },
  {
   "cell_type": "code",
   "execution_count": 31,
   "metadata": {
    "collapsed": false
   },
   "outputs": [
    {
     "name": "stdout",
     "output_type": "stream",
     "text": [
      "Lunch from my new Lil spot ...THE COTTON BOWL ....pretty good#1st#time#will be going back# http://instagr.am/p/RX9939CIv8/  \n",
      "lunch from my new lil spot ...the cotton bowl ....pretty good1st#time#will be going back# URL\n"
     ]
    }
   ],
   "source": [
    "print test_tweets.message[1],'\\n' ,processTweet(test_tweets.message[1])"
   ]
  },
  {
   "cell_type": "markdown",
   "metadata": {},
   "source": [
    "Vectorized second test tweet message has same shape as training vectors, as it contains vectorized training data vocabulatory."
   ]
  },
  {
   "cell_type": "code",
   "execution_count": 32,
   "metadata": {
    "collapsed": false
   },
   "outputs": [
    {
     "name": "stdout",
     "output_type": "stream",
     "text": [
      "bow test sample:\n",
      "  (0, 1030)\t1\n",
      "  (0, 1821)\t1\n",
      "  (0, 1993)\t1\n",
      "  (0, 2400)\t1\n",
      "  (0, 5278)\t1\n",
      "  (0, 5574)\t1\n",
      "  (0, 7464)\t1\n",
      "  (0, 7698)\t1\n",
      "  (0, 8462)\t1\n",
      "  (0, 8611)\t1\n",
      "  (0, 9910)\t1\n",
      "  (0, 11753)\t1\n",
      "  (0, 12413)\t1\n",
      "  (0, 12544)\t1\n",
      "  (0, 13611)\t1\n",
      "\n",
      " bow test sample shape:  (1, 14002)\n"
     ]
    }
   ],
   "source": [
    "bow_test_sample = bow_transformer.transform([test_tweets.message[1]])\n",
    "print \"bow test sample:\\n\",bow_test_sample \n",
    "print \"\\n bow test sample shape: \",bow_test_sample.shape"
   ]
  },
  {
   "cell_type": "code",
   "execution_count": 33,
   "metadata": {
    "collapsed": false
   },
   "outputs": [
    {
     "name": "stdout",
     "output_type": "stream",
     "text": [
      "tf.idf test sample:\n",
      "  (0, 13611)\t0.185610210161\n",
      "  (0, 12544)\t0.205005903765\n",
      "  (0, 12413)\t0.0773384241083\n",
      "  (0, 11753)\t0.369510234145\n",
      "  (0, 9910)\t0.327928240294\n",
      "  (0, 8611)\t0.216151747728\n",
      "  (0, 8462)\t0.181214127577\n",
      "  (0, 7698)\t0.380540519389\n",
      "  (0, 7464)\t0.384792573898\n",
      "  (0, 5574)\t0.198782353208\n",
      "  (0, 5278)\t0.205761568317\n",
      "  (0, 2400)\t0.341714077644\n",
      "  (0, 1993)\t0.159802885107\n",
      "  (0, 1821)\t0.248536507619\n",
      "  (0, 1030)\t0.122885264078 \n",
      "\n",
      " test sample shape (1, 14002)\n"
     ]
    }
   ],
   "source": [
    "print \"tf.idf test sample:\\n\",test_messages_tfidf[1],\"\\n\\n test sample shape\",\\\n",
    "test_messages_tfidf[1].shape"
   ]
  },
  {
   "cell_type": "code",
   "execution_count": 34,
   "metadata": {
    "collapsed": false
   },
   "outputs": [
    {
     "name": "stdout",
     "output_type": "stream",
     "text": [
      "['positive']\n"
     ]
    }
   ],
   "source": [
    "print label_detector.predict(test_messages_tfidf[1])"
   ]
  },
  {
   "cell_type": "markdown",
   "metadata": {},
   "source": [
    "Looks good."
   ]
  },
  {
   "cell_type": "markdown",
   "metadata": {},
   "source": [
    "### Testing with all test data"
   ]
  },
  {
   "cell_type": "markdown",
   "metadata": {},
   "source": [
    "#### Test data predictions\n",
    "Getting the predictions from the model with vectorized test data tweet messages (test_messages_tfidf)."
   ]
  },
  {
   "cell_type": "code",
   "execution_count": 35,
   "metadata": {
    "collapsed": false
   },
   "outputs": [],
   "source": [
    "test_predictions = clf.predict(test_messages_tfidf)"
   ]
  },
  {
   "cell_type": "markdown",
   "metadata": {},
   "source": [
    "#### Accuracy_score"
   ]
  },
  {
   "cell_type": "code",
   "execution_count": 36,
   "metadata": {
    "collapsed": false
   },
   "outputs": [
    {
     "name": "stdout",
     "output_type": "stream",
     "text": [
      "accuracy 0.647843942505\n"
     ]
    }
   ],
   "source": [
    "print 'accuracy', accuracy_score(test_tweets['label'], test_predictions)"
   ]
  },
  {
   "cell_type": "markdown",
   "metadata": {},
   "source": [
    "Looks better than coin tossing, let's check the confusion matrix."
   ]
  },
  {
   "cell_type": "markdown",
   "metadata": {},
   "source": [
    "#### Confusion matrix"
   ]
  },
  {
   "cell_type": "code",
   "execution_count": 37,
   "metadata": {
    "collapsed": false
   },
   "outputs": [
    {
     "name": "stdout",
     "output_type": "stream",
     "text": [
      "Confusion matrix, without normalization\n",
      "[[ 52  86  43]\n",
      " [ 19 335  82]\n",
      " [ 13 100 244]]\n",
      "\n",
      "Normalized confusion matrix\n",
      "[[ 0.29  0.48  0.24]\n",
      " [ 0.04  0.77  0.19]\n",
      " [ 0.04  0.28  0.68]]\n"
     ]
    },
    {
     "data": {
      "image/png": "[encoded data removed]",
      "text/plain": [
       "<matplotlib.figure.Figure at 0x21aee668>"
      ]
     },
     "metadata": {},
     "output_type": "display_data"
    },
    {
     "data": {
      "image/png": "[encoded data removed]",
      "text/plain": [
       "<matplotlib.figure.Figure at 0x2255cdd8>"
      ]
     },
     "metadata": {},
     "output_type": "display_data"
    }
   ],
   "source": [
    "%matplotlib inline\n",
    "\n",
    "y_pred = test_predictions\n",
    "y_test= test_tweets['label']\n",
    "target_names=('negative','neutral','positive')\n",
    "\n",
    "def plot_confusion_matrix(cm, title='Confusion matrix', cmap=plt.cm.Blues):\n",
    "    plt.imshow(cm, interpolation='nearest', cmap=cmap)\n",
    "    plt.title(title)\n",
    "    plt.colorbar()\n",
    "    tick_marks = np.arange(len(target_names))\n",
    "    plt.xticks(tick_marks, target_names, rotation=45)\n",
    "    plt.yticks(tick_marks, target_names)\n",
    "    plt.tight_layout()\n",
    "    plt.ylabel('True label')\n",
    "    plt.xlabel('Predicted label')\n",
    "\n",
    "\n",
    "# Compute confusion matrix\n",
    "cm = confusion_matrix(y_test, y_pred)\n",
    "np.set_printoptions(precision=2)\n",
    "print('Confusion matrix, without normalization')\n",
    "print(cm)\n",
    "plt.figure()\n",
    "plot_confusion_matrix(cm)\n",
    "\n",
    "# Normalize the confusion matrix by row (i.e by the number of samples\n",
    "# in each class)\n",
    "cm_normalized = cm.astype('float') / cm.sum(axis=1)[:, np.newaxis]\n",
    "print('\\nNormalized confusion matrix')\n",
    "print(cm_normalized)\n",
    "plt.figure()\n",
    "plot_confusion_matrix(cm_normalized, title='Normalized confusion matrix')\n",
    "\n",
    "plt.show()"
   ]
  },
  {
   "cell_type": "markdown",
   "metadata": {},
   "source": [
    "Looks like most of the messages categorized as 'negative' will be predicted as 'neutral', almost 50%. only 29 % of the 'negative' tweets are predicted as 'negative. Other categories will be predicted more precisely to the correct categories.\n",
    "\n",
    "Let's check the classification report next."
   ]
  },
  {
   "cell_type": "markdown",
   "metadata": {},
   "source": [
    "#### Classification report."
   ]
  },
  {
   "cell_type": "code",
   "execution_count": 38,
   "metadata": {
    "collapsed": false
   },
   "outputs": [
    {
     "name": "stdout",
     "output_type": "stream",
     "text": [
      "             precision    recall  f1-score   support\n",
      "\n",
      "   negative       0.62      0.29      0.39       181\n",
      "    neutral       0.64      0.77      0.70       436\n",
      "   positive       0.66      0.68      0.67       357\n",
      "\n",
      "avg / total       0.65      0.65      0.63       974\n",
      "\n"
     ]
    }
   ],
   "source": [
    "print classification_report(test_tweets['label'], test_predictions)"
   ]
  },
  {
   "cell_type": "markdown",
   "metadata": {},
   "source": [
    "This is the prediction of how well the model would predict any unseen Twitter messages. Twitter messages with 'positive' and 'negative' labels are predicted quite well, but like noted above, the problematic category is the 'negative'."
   ]
  },
  {
   "cell_type": "markdown",
   "metadata": {},
   "source": [
    "#### Final evaluation with the given evaluation code."
   ]
  },
  {
   "cell_type": "code",
   "execution_count": 39,
   "metadata": {
    "collapsed": false
   },
   "outputs": [
    {
     "name": "stdout",
     "output_type": "stream",
     "text": [
      "Evaluation F-score calculated with the given functions:\n",
      "F-score: 0.532314569364\n"
     ]
    }
   ],
   "source": [
    "print 'Evaluation F-score calculated with the given functions:'\n",
    "evaluation_modified(test_tweets['label'], test_predictions)"
   ]
  },
  {
   "cell_type": "markdown",
   "metadata": {},
   "source": [
    "The result is over 0.5, but quite far from 0.6 (or 0.7). In other words the result is feasible, but could be better.\n",
    "\n",
    "Problem clearly is that the tweets labeles 'negative' are not recognized as negative. Haven't looked any deeper into the messages, but it might be some semantic issue with separate words, or actually lemmas in this case.\n",
    "\n",
    "With my earlier tries of modelling, the LinearSVC could not predict anything to 'negative' class. So taken that into account, I am very happy with this model, and the learning process."
   ]
  },
  {
   "cell_type": "markdown",
   "metadata": {},
   "source": [
    "### Saving the classifier with pickle"
   ]
  },
  {
   "cell_type": "markdown",
   "metadata": {},
   "source": [
    "The model is stored and can be opened without additional fitting for any new testing predictions. Note! The Twitter message preprocessing and vectorizing needs to be done too, so the model alone does not give similar results."
   ]
  },
  {
   "cell_type": "code",
   "execution_count": 40,
   "metadata": {
    "collapsed": false
   },
   "outputs": [],
   "source": [
    "save_classifier=open(\"clf_tweets.pickle\", \"wb\") #write in bytes\n",
    "pickle.dump(clf, save_classifier)\n",
    "save_classifier.close()"
   ]
  },
  {
   "cell_type": "markdown",
   "metadata": {},
   "source": [
    "# References"
   ]
  },
  {
   "cell_type": "markdown",
   "metadata": {},
   "source": [
    "## Original code that was given for evaluation"
   ]
  },
  {
   "cell_type": "code",
   "execution_count": 41,
   "metadata": {
    "collapsed": false
   },
   "outputs": [
    {
     "name": "stderr",
     "output_type": "stream",
     "text": [
      "usage: __main__.py [-h] --true TRUE --predictions PREDICTIONS\n",
      "__main__.py: error: argument --true is required\n"
     ]
    },
    {
     "ename": "SystemExit",
     "evalue": "2",
     "output_type": "error",
     "traceback": [
      "An exception has occurred, use %tb to see the full traceback.\n",
      "\u001b[1;31mSystemExit\u001b[0m\u001b[1;31m:\u001b[0m 2\n"
     ]
    },
    {
     "name": "stderr",
     "output_type": "stream",
     "text": [
      "To exit: use 'exit', 'quit', or Ctrl-D.\n"
     ]
    }
   ],
   "source": [
    "from collections import defaultdict\n",
    "import codecs\n",
    "import argparse\n",
    "\n",
    "def evaluate(true_path, prediction_path):\n",
    "    true_handle = codecs.open(true_path, 'r', 'utf-8')\n",
    "    prediction_handle = codecs.open(prediction_path, 'r', 'utf-8')\n",
    "    \n",
    "    true_labels = [line.split('\\t')[2] for line in true_handle.readlines()]\n",
    "    predicted_labels = [line.split('\\t')[2] for line in prediction_handle.readlines()]\n",
    "    \n",
    "    print \"F-score: %s\" % _macro_f_score(true_labels, predicted_labels)\n",
    "    \n",
    "\n",
    "def _macro_f_score(true_labels, predicted_labels):\n",
    "    \"\"\"\n",
    "    Mimics the official SemEval evaluation,\n",
    "    which calculates the macro-averaged f-score of positive and negative class.\n",
    "    Neutral class is ignored.\n",
    "    The input should be lists or other iterable types (e.g. numpy arrays).\n",
    "    \"\"\"\n",
    "    \n",
    "    counts = defaultdict(lambda:defaultdict(int))\n",
    "    \n",
    "    for i in range(len(true_labels)):\n",
    "        if predicted_labels[i] == true_labels[i] and predicted_labels[i]\\\n",
    "        in ['positive', 'negative']:\n",
    "            counts[predicted_labels[i]]['tp'] += 1\n",
    "        elif predicted_labels[i] != true_labels[i] and predicted_labels[i]\\\n",
    "        in ['positive', 'negative']:\n",
    "            counts[predicted_labels[i]]['fp'] += 1\n",
    "            \n",
    "    counts['positive']['all_true'] = list(true_labels).count('positive')\n",
    "    counts['negative']['all_true'] = list(true_labels).count('negative')\n",
    "\n",
    "    try:\n",
    "        precision_positive = float(counts['positive']['tp']) / \\\n",
    "        (counts['positive']['tp'] + counts['positive']['fp'])\n",
    "        recall_positive = float(counts['positive']['tp']) / \\\n",
    "        counts['positive']['all_true']\n",
    "        f_score_positive = 2 * precision_positive * recall_positive / \\\n",
    "        (precision_positive + recall_positive)\n",
    "    except:\n",
    "        f_score_positive = 0.0\n",
    "    \n",
    "    try:\n",
    "        precision_negative = float(counts['negative']['tp']) / \\\n",
    "        (counts['negative']['tp'] + counts['negative']['fp'])\n",
    "        recall_negative = float(counts['negative']['tp']) / \\\n",
    "        counts['negative']['all_true']\n",
    "        f_score_negative = 2 * precision_negative * recall_negative /\\\n",
    "        (precision_negative + recall_negative)\n",
    "    except:\n",
    "        f_score_negative = 0.0\n",
    "    \n",
    "    \n",
    "    return (f_score_positive + f_score_negative) / 2.0\n",
    "\n",
    "if __name__ == '__main__':\n",
    "    parser = argparse.ArgumentParser(description='Twitter sentiment evaluator script.')\n",
    "    parser.add_argument('--true', help='Path to true labels', required=True)\n",
    "    parser.add_argument('--predictions', help='Path to predicted labels', required=True)\n",
    "    \n",
    "    args = vars(parser.parse_args())\n",
    "    \n",
    "    evaluate(args['true'], args['predictions'])"
   ]
  },
  {
   "cell_type": "markdown",
   "metadata": {},
   "source": [
    "## Other references and sources used"
   ]
  },
  {
   "cell_type": "markdown",
   "metadata": {},
   "source": [
    "Together with course slides, several internet sources were used. The sources that were probably most used were scikit-learn library documentation and this web page: http://radimrehurek.com/data_science_python/"
   ]
  }
 ],
 "metadata": {
  "kernelspec": {
   "display_name": "Python 2",
   "language": "python",
   "name": "python2"
  },
  "language_info": {
   "codemirror_mode": {
    "name": "ipython",
    "version": 2
   },
   "file_extension": ".py",
   "mimetype": "text/x-python",
   "name": "python",
   "nbconvert_exporter": "python",
   "pygments_lexer": "ipython2",
   "version": "2.7.11"
  }
 },
 "nbformat": 4,
 "nbformat_minor": 0
}
